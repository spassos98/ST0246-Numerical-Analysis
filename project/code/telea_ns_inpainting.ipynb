{
  "nbformat": 4,
  "nbformat_minor": 0,
  "metadata": {
    "kernelspec": {
      "display_name": "Tensorflow-gpu",
      "language": "python",
      "name": "tensorflow-gpu"
    },
    "language_info": {
      "codemirror_mode": {
        "name": "ipython",
        "version": 3
      },
      "file_extension": ".py",
      "mimetype": "text/x-python",
      "name": "python",
      "nbconvert_exporter": "python",
      "pygments_lexer": "ipython3",
      "version": "3.6.7"
    },
    "colab": {
      "name": "telea_ns_inpainting",
      "provenance": []
    }
  },
  "cells": [
    {
      "cell_type": "code",
      "metadata": {
        "id": "PwCyiafU1n_F",
        "colab_type": "code",
        "colab": {}
      },
      "source": [
        "import os\n",
        "import itertools\n",
        "import matplotlib\n",
        "import matplotlib.pyplot as plt\n",
        "  \n",
        "from random import randint, seed\n",
        "import itertools\n",
        "import numpy as np\n",
        "import cv2\n",
        "\n",
        "%matplotlib inline"
      ],
      "execution_count": 0,
      "outputs": []
    },
    {
      "cell_type": "code",
      "metadata": {
        "id": "QW1DMqsW4xY9",
        "colab_type": "code",
        "colab": {}
      },
      "source": [
        "# Mask generator obtained from \n",
        "# https://github.com/MathiasGruber/PConv-Keras/blob/master/libs/util.py\n",
        "\n",
        "class MaskGenerator():\n",
        "\n",
        "    def __init__(self, height, width, channels=3, rand_seed=None, filepath=None):\n",
        "        \"\"\"Convenience functions for generating masks to be used for inpainting training\n",
        "        \n",
        "        Arguments:\n",
        "            height {int} -- Mask height\n",
        "            width {width} -- Mask width\n",
        "        \n",
        "        Keyword Arguments:\n",
        "            channels {int} -- Channels to output (default: {3})\n",
        "            rand_seed {[type]} -- Random seed (default: {None})\n",
        "            filepath {[type]} -- Load masks from filepath. If None, generate masks with OpenCV (default: {None})\n",
        "        \"\"\"\n",
        "\n",
        "        self.height = height\n",
        "        self.width = width\n",
        "        self.channels = channels\n",
        "        self.filepath = filepath\n",
        "\n",
        "        # If filepath supplied, load the list of masks within the directory\n",
        "        self.mask_files = []\n",
        "        if self.filepath:\n",
        "            filenames = [f for f in os.listdir(self.filepath)]\n",
        "            self.mask_files = [f for f in filenames if any(filetype in f.lower() for filetype in ['.jpeg', '.png', '.jpg'])]\n",
        "            print(\">> Found {} masks in {}\".format(len(self.mask_files), self.filepath))        \n",
        "\n",
        "        # Seed for reproducibility\n",
        "        if rand_seed:\n",
        "            seed(rand_seed)\n",
        "\n",
        "    def _generate_mask(self):\n",
        "        \"\"\"Generates a random irregular mask with lines, circles and elipses\"\"\"\n",
        "\n",
        "        img = np.zeros((self.height, self.width, self.channels), np.uint8)\n",
        "\n",
        "        # Set size scale\n",
        "        size = int((self.width + self.height) * 0.03)\n",
        "        if self.width < 64 or self.height < 64:\n",
        "            raise Exception(\"Width and Height of mask must be at least 64!\")\n",
        "        \n",
        "        # Draw random lines\n",
        "        for _ in range(randint(1, 20)):\n",
        "            x1, x2 = randint(1, self.width), randint(1, self.width)\n",
        "            y1, y2 = randint(1, self.height), randint(1, self.height)\n",
        "            thickness = randint(3, size)\n",
        "            cv2.line(img,(x1,y1),(x2,y2),(1,1,1),thickness)\n",
        "            \n",
        "        # Draw random circles\n",
        "        for _ in range(randint(1, 20)):\n",
        "            x1, y1 = randint(1, self.width), randint(1, self.height)\n",
        "            radius = randint(3, size)\n",
        "            #cv2.circle(img,(x1,y1),radius,(1,1,1), -1)\n",
        "            \n",
        "        # Draw random ellipses\n",
        "        for _ in range(randint(1, 20)):\n",
        "            x1, y1 = randint(1, self.width), randint(1, self.height)\n",
        "            s1, s2 = randint(1, self.width), randint(1, self.height)\n",
        "            a1, a2, a3 = randint(3, 180), randint(3, 180), randint(3, 180)\n",
        "            thickness = randint(3, size)\n",
        "            #cv2.ellipse(img, (x1,y1), (s1,s2), a1, a2, a3,(1,1,1), thickness)\n",
        "        \n",
        "        return 1-img\n",
        "\n",
        "    def _load_mask(self, rotation=True, dilation=True, cropping=True):\n",
        "        \"\"\"Loads a mask from disk, and optionally augments it\"\"\"\n",
        "\n",
        "        # Read image\n",
        "        mask = cv2.imread(os.path.join(self.filepath, np.random.choice(self.mask_files, 1, replace=False)[0]))\n",
        "        \n",
        "        # Random rotation\n",
        "        if rotation:\n",
        "            rand = np.random.randint(-180, 180)\n",
        "            M = cv2.getRotationMatrix2D((mask.shape[1]/2, mask.shape[0]/2), rand, 1.5)\n",
        "            mask = cv2.warpAffine(mask, M, (mask.shape[1], mask.shape[0]))\n",
        "            \n",
        "        # Random dilation\n",
        "        if dilation:\n",
        "            rand = np.random.randint(5, 47)\n",
        "            kernel = np.ones((rand, rand), np.uint8) \n",
        "            mask = cv2.erode(mask, kernel, iterations=1)\n",
        "            \n",
        "        # Random cropping\n",
        "        if cropping:\n",
        "            x = np.random.randint(0, mask.shape[1] - self.width)\n",
        "            y = np.random.randint(0, mask.shape[0] - self.height)\n",
        "            mask = mask[y:y+self.height, x:x+self.width]\n",
        "\n",
        "        return (mask > 1).astype(np.uint8)\n",
        "\n",
        "    def sample(self, random_seed=None):\n",
        "        \"\"\"Retrieve a random mask\"\"\"\n",
        "        if random_seed:\n",
        "            seed(random_seed)\n",
        "        if self.filepath and len(self.mask_files) > 0:\n",
        "            return self._load_mask()\n",
        "        else:\n",
        "            return self._generate_mask()"
      ],
      "execution_count": 0,
      "outputs": []
    },
    {
      "cell_type": "code",
      "metadata": {
        "id": "nceyixh7AMZO",
        "colab_type": "code",
        "colab": {}
      },
      "source": [
        "from google.colab import files"
      ],
      "execution_count": 0,
      "outputs": []
    },
    {
      "cell_type": "code",
      "metadata": {
        "id": "BFD2QnXSAxac",
        "colab_type": "code",
        "outputId": "fafff667-5798-4941-8aec-29bbbe1e1332",
        "colab": {
          "resources": {
            "http://localhost:8080/nbextensions/google.colab/files.js": {
              "data": "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",
              "ok": true,
              "headers": [
                [
                  "content-type",
                  "application/javascript"
                ]
              ],
              "status": 200,
              "status_text": ""
            }
          },
          "base_uri": "https://localhost:8080/",
          "height": 74
        }
      },
      "source": [
        "uploaded = files.upload()"
      ],
      "execution_count": 0,
      "outputs": [
        {
          "output_type": "display_data",
          "data": {
            "text/html": [
              "\n",
              "     <input type=\"file\" id=\"files-6186a512-c695-468a-a8c4-2a0515e7796d\" name=\"files[]\" multiple disabled />\n",
              "     <output id=\"result-6186a512-c695-468a-a8c4-2a0515e7796d\">\n",
              "      Upload widget is only available when the cell has been executed in the\n",
              "      current browser session. Please rerun this cell to enable.\n",
              "      </output>\n",
              "      <script src=\"/nbextensions/google.colab/files.js\"></script> "
            ],
            "text/plain": [
              "<IPython.core.display.HTML object>"
            ]
          },
          "metadata": {
            "tags": []
          }
        },
        {
          "output_type": "stream",
          "text": [
            "Saving 1041x1162.png to 1041x1162.png\n"
          ],
          "name": "stdout"
        }
      ]
    },
    {
      "cell_type": "code",
      "metadata": {
        "id": "BdzOTd1yAU8F",
        "colab_type": "code",
        "colab": {}
      },
      "source": [
        "import io\n",
        "from PIL import Image\n",
        "im_list = []\n",
        "imageFilename = ['men.png', 'bird.png', 'pc.png', '1158x1041.png', '1041x1162.png']\n",
        "\n",
        "for im in imageFilename:\n",
        "  imageFileObj = open(im, \"rb\")\n",
        "  imageBinaryBytes = imageFileObj.read()\n",
        "  imageStream = io.BytesIO(imageBinaryBytes)\n",
        "  imageFile = Image.open(imageStream)\n",
        "  im_list.append(imageFile)"
      ],
      "execution_count": 0,
      "outputs": []
    },
    {
      "cell_type": "code",
      "metadata": {
        "id": "MPeYAiB0BhsY",
        "colab_type": "code",
        "colab": {}
      },
      "source": [
        "# Telea and NS for the image with a man\n",
        "\n",
        "arr_men = np.array(im_list[0])[:,:,0:3]\n",
        "# Instantiate mask generator\n",
        "mask_generator = MaskGenerator(256, 256, 1, rand_seed=21)\n",
        "\n",
        "mask = mask_generator.sample()\n",
        "mask = (1-mask.reshape(256,256))*255\n",
        "img = Image.fromarray(mask,\"L\")\n",
        "img.save('men_mask.png')\n",
        "files.download('men_mask.png')\n",
        "\n",
        "dst = cv2.inpaint(arr_men, mask,3,cv2.INPAINT_TELEA)\n",
        "img = Image.fromarray(dst,\"RGB\")\n",
        "img.save('men_Telea.png')\n",
        "files.download('men_Telea.png')\n",
        "\n",
        "dst = cv2.inpaint(arr_men, mask,3,cv2.INPAINT_NS)\n",
        "img = Image.fromarray(dst,\"RGB\")\n",
        "img.save('men_NS.png')\n",
        "files.download('men_NS.png')\n",
        "\n",
        "mask_generator = MaskGenerator(256, 256, 3, rand_seed=21)\n",
        "mask = (1 - mask_generator.sample())*255\n",
        "#masked_men = (arr_men < mask)*arr_men + (mask > arr_men)*255\n",
        "masked_men = np.maximum(mask, arr_men)\n",
        "img = Image.fromarray(masked_men,\"RGB\")\n",
        "img.save('men_masked.png')\n",
        "files.download('men_masked.png')"
      ],
      "execution_count": 0,
      "outputs": []
    },
    {
      "cell_type": "code",
      "metadata": {
        "id": "SJysfoPSJHqi",
        "colab_type": "code",
        "colab": {}
      },
      "source": [
        "# Telea and NS for the image with a bird\n",
        "arr = np.array(im_list[1])[:,:,0:3]\n",
        "name = 'bird'\n",
        "num = 18\n",
        "# Instantiate mask generator\n",
        "\n",
        "mask_generator = MaskGenerator(256, 256, 1, rand_seed=14)\n",
        "mask = mask_generator.sample()\n",
        "mask = (1-mask.reshape(256,256))*255\n",
        "img = Image.fromarray(mask,\"L\")\n",
        "img.save(name + '_mask.png')\n",
        "files.download(name + '_mask.png')\n",
        "\n",
        "\n",
        "dst = cv2.inpaint(arr, mask,3,cv2.INPAINT_TELEA)\n",
        "img = Image.fromarray(dst,\"RGB\")\n",
        "img.save(name + '_Telea.png')\n",
        "files.download(name + '_Telea.png')\n",
        "\n",
        "dst = cv2.inpaint(arr, mask,3,cv2.INPAINT_NS)\n",
        "img = Image.fromarray(dst,\"RGB\")\n",
        "img.save(name + '_NS.png')\n",
        "files.download(name + '_NS.png')\n",
        "\n",
        "mask_generator = MaskGenerator(256, 256, 3, rand_seed=14)\n",
        "mask = (1 - mask_generator.sample())*255\n",
        "masked_men = np.maximum(mask, arr)\n",
        "img = Image.fromarray(masked_men,\"RGB\")\n",
        "img.save(name + '_masked.png')\n",
        "files.download(name + '_masked.png')"
      ],
      "execution_count": 0,
      "outputs": []
    },
    {
      "cell_type": "code",
      "metadata": {
        "id": "VXIJw5oqKyWa",
        "colab_type": "code",
        "colab": {}
      },
      "source": [
        "# Telea and NS for the image with a pc\n",
        "arr = np.array(im_list[2])[:,:,0:3]\n",
        "name = 'pc'\n",
        "num = 18\n",
        "# Instantiate mask generator\n",
        "\n",
        "mask_generator = MaskGenerator(256, 256, 1, rand_seed=num)\n",
        "mask = mask_generator.sample()\n",
        "mask = (1-mask.reshape(256,256))*255\n",
        "img = Image.fromarray(mask,\"L\")\n",
        "img.save(name + '_mask.png')\n",
        "files.download(name + '_mask.png')\n",
        "\n",
        "\n",
        "dst = cv2.inpaint(arr, mask,3,cv2.INPAINT_TELEA)\n",
        "img = Image.fromarray(dst,\"RGB\")\n",
        "img.save(name + '_Telea.png')\n",
        "files.download(name + '_Telea.png')\n",
        "\n",
        "dst = cv2.inpaint(arr, mask,3,cv2.INPAINT_NS)\n",
        "img = Image.fromarray(dst,\"RGB\")\n",
        "img.save(name + '_NS.png')\n",
        "files.download(name + '_NS.png')\n",
        "\n",
        "mask_generator = MaskGenerator(256, 256, 3, rand_seed=num)\n",
        "mask = (1 - mask_generator.sample())*255\n",
        "masked_men = np.maximum(mask, arr)\n",
        "img = Image.fromarray(masked_men,\"RGB\")\n",
        "img.save(name + '_masked.png')\n",
        "files.download(name + '_masked.png')"
      ],
      "execution_count": 0,
      "outputs": []
    },
    {
      "cell_type": "code",
      "metadata": {
        "id": "FpenJKOyN2gO",
        "colab_type": "code",
        "colab": {}
      },
      "source": [
        "# Telea and NS for the image of Medellin\n",
        "arr = np.array(im_list[3])[:,:,0:3]\n",
        "name = 'medallo'\n",
        "num = 5650000\n",
        "# Instantiate mask generator\n",
        "\n",
        "mask_generator = MaskGenerator( 1041, 1158, 1, rand_seed=num)\n",
        "mask = mask_generator.sample()\n",
        "mask = (1-mask.reshape(1041, 1158))*255\n",
        "img = Image.fromarray(mask,\"L\")\n",
        "img.save(name + '_mask.png')\n",
        "files.download(name + '_mask.png')\n",
        "\n",
        "\n",
        "dst = cv2.inpaint(arr, mask,3,cv2.INPAINT_TELEA)\n",
        "img = Image.fromarray(dst,\"RGB\")\n",
        "img.save(name + '_Telea.png')\n",
        "files.download(name + '_Telea.png')\n",
        "\n",
        "dst = cv2.inpaint(arr, mask,3,cv2.INPAINT_NS)\n",
        "img = Image.fromarray(dst,\"RGB\")\n",
        "img.save(name + '_NS.png')\n",
        "files.download(name + '_NS.png')\n",
        "\n",
        "mask_generator = MaskGenerator(1041, 1158, 3, rand_seed=num)\n",
        "mask = (1 - mask_generator.sample())*255\n",
        "masked_men = np.maximum(mask, arr)\n",
        "img = Image.fromarray(masked_men,\"RGB\")\n",
        "img.save(name + '_masked.png')\n",
        "files.download(name + '_masked.png')"
      ],
      "execution_count": 0,
      "outputs": []
    },
    {
      "cell_type": "code",
      "metadata": {
        "id": "m1qG4po4OCYv",
        "colab_type": "code",
        "colab": {}
      },
      "source": [
        "# Telea and NS for the image of Medellin grasslands\n",
        "arr = np.array(im_list[4])[:,:,0:3]\n",
        "name = 'medallo_grasslands'\n",
        "num = 5650001\n",
        "# Instantiate mask generator\n",
        "\n",
        "mask_generator = MaskGenerator( 1041, 1162, 1, rand_seed=num)\n",
        "mask = mask_generator.sample()\n",
        "mask = (1-mask.reshape(1041, 1162))*255\n",
        "img = Image.fromarray(mask,\"L\")\n",
        "img.save(name + '_mask.png')\n",
        "files.download(name + '_mask.png')\n",
        "\n",
        "\n",
        "dst = cv2.inpaint(arr, mask,3,cv2.INPAINT_TELEA)\n",
        "img = Image.fromarray(dst,\"RGB\")\n",
        "img.save(name + '_Telea.png')\n",
        "files.download(name + '_Telea.png')\n",
        "\n",
        "dst = cv2.inpaint(arr, mask,3,cv2.INPAINT_NS)\n",
        "img = Image.fromarray(dst,\"RGB\")\n",
        "img.save(name + '_NS.png')\n",
        "files.download(name + '_NS.png')\n",
        "\n",
        "mask_generator = MaskGenerator(1041, 1162, 3, rand_seed=num)\n",
        "mask = (1 - mask_generator.sample())*255\n",
        "masked_men = np.maximum(mask, arr)\n",
        "img = Image.fromarray(masked_men,\"RGB\")\n",
        "img.save(name + '_masked.png')\n",
        "files.download(name + '_masked.png')"
      ],
      "execution_count": 0,
      "outputs": []
    }
  ]
}